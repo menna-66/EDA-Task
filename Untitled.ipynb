{
 "cells": [
  {
   "cell_type": "code",
   "execution_count": 1,
   "id": "d88aa9e4",
   "metadata": {},
   "outputs": [],
   "source": [
    "import pandas as pd\n",
    "import numpy as np\n",
    "import matplotlib.pyplot as plt\n",
    "%matplotlib inline\n",
    "import seaborn as sns"
   ]
  },
  {
   "cell_type": "code",
   "execution_count": 2,
   "id": "9fb927ea",
   "metadata": {},
   "outputs": [
    {
     "name": "stdout",
     "output_type": "stream",
     "text": [
      "                ListingKey  ListingNumber            ListingCreationDate  \\\n",
      "0  1021339766868145413AB3B         193129  2007-08-26 19:09:29.263000000   \n",
      "1  10273602499503308B223C1        1209647  2014-02-27 08:28:07.900000000   \n",
      "2  0EE9337825851032864889A          81716  2007-01-05 15:00:47.090000000   \n",
      "3  0EF5356002482715299901A         658116  2012-10-22 11:02:35.010000000   \n",
      "4  0F023589499656230C5E3E2         909464  2013-09-14 18:38:39.097000000   \n",
      "\n",
      "  CreditGrade  Term LoanStatus           ClosedDate  BorrowerAPR  \\\n",
      "0           C    36  Completed  2009-08-14 00:00:00      0.16516   \n",
      "1         NaN    36    Current                  NaN      0.12016   \n",
      "2          HR    36  Completed  2009-12-17 00:00:00      0.28269   \n",
      "3         NaN    36    Current                  NaN      0.12528   \n",
      "4         NaN    36    Current                  NaN      0.24614   \n",
      "\n",
      "   BorrowerRate  LenderYield  ...  LP_ServiceFees  LP_CollectionFees  \\\n",
      "0        0.1580       0.1380  ...         -133.18                0.0   \n",
      "1        0.0920       0.0820  ...            0.00                0.0   \n",
      "2        0.2750       0.2400  ...          -24.20                0.0   \n",
      "3        0.0974       0.0874  ...         -108.01                0.0   \n",
      "4        0.2085       0.1985  ...          -60.27                0.0   \n",
      "\n",
      "   LP_GrossPrincipalLoss  LP_NetPrincipalLoss LP_NonPrincipalRecoverypayments  \\\n",
      "0                    0.0                  0.0                             0.0   \n",
      "1                    0.0                  0.0                             0.0   \n",
      "2                    0.0                  0.0                             0.0   \n",
      "3                    0.0                  0.0                             0.0   \n",
      "4                    0.0                  0.0                             0.0   \n",
      "\n",
      "   PercentFunded  Recommendations InvestmentFromFriendsCount  \\\n",
      "0            1.0                0                          0   \n",
      "1            1.0                0                          0   \n",
      "2            1.0                0                          0   \n",
      "3            1.0                0                          0   \n",
      "4            1.0                0                          0   \n",
      "\n",
      "  InvestmentFromFriendsAmount Investors  \n",
      "0                         0.0       258  \n",
      "1                         0.0         1  \n",
      "2                         0.0        41  \n",
      "3                         0.0       158  \n",
      "4                         0.0        20  \n",
      "\n",
      "[5 rows x 81 columns]\n"
     ]
    }
   ],
   "source": [
    "df =pd.read_csv('prosperLoanData.csv') \n",
    "print (df.head()) #Print first five observations"
   ]
  },
  {
   "cell_type": "code",
   "execution_count": 3,
   "id": "67d4fda7",
   "metadata": {},
   "outputs": [
    {
     "data": {
      "text/plain": [
       "(113937, 81)"
      ]
     },
     "execution_count": 3,
     "metadata": {},
     "output_type": "execute_result"
    }
   ],
   "source": [
    "df.shape"
   ]
  },
  {
   "cell_type": "code",
   "execution_count": 4,
   "id": "2ea5e051",
   "metadata": {},
   "outputs": [
    {
     "name": "stdout",
     "output_type": "stream",
     "text": [
      "<class 'pandas.core.frame.DataFrame'>\n",
      "RangeIndex: 113937 entries, 0 to 113936\n",
      "Data columns (total 81 columns):\n",
      " #   Column                               Non-Null Count   Dtype  \n",
      "---  ------                               --------------   -----  \n",
      " 0   ListingKey                           113937 non-null  object \n",
      " 1   ListingNumber                        113937 non-null  int64  \n",
      " 2   ListingCreationDate                  113937 non-null  object \n",
      " 3   CreditGrade                          28953 non-null   object \n",
      " 4   Term                                 113937 non-null  int64  \n",
      " 5   LoanStatus                           113937 non-null  object \n",
      " 6   ClosedDate                           55089 non-null   object \n",
      " 7   BorrowerAPR                          113912 non-null  float64\n",
      " 8   BorrowerRate                         113937 non-null  float64\n",
      " 9   LenderYield                          113937 non-null  float64\n",
      " 10  EstimatedEffectiveYield              84853 non-null   float64\n",
      " 11  EstimatedLoss                        84853 non-null   float64\n",
      " 12  EstimatedReturn                      84853 non-null   float64\n",
      " 13  ProsperRating (numeric)              84853 non-null   float64\n",
      " 14  ProsperRating (Alpha)                84853 non-null   object \n",
      " 15  ProsperScore                         84853 non-null   float64\n",
      " 16  ListingCategory (numeric)            113937 non-null  int64  \n",
      " 17  BorrowerState                        108422 non-null  object \n",
      " 18  Occupation                           110349 non-null  object \n",
      " 19  EmploymentStatus                     111682 non-null  object \n",
      " 20  EmploymentStatusDuration             106312 non-null  float64\n",
      " 21  IsBorrowerHomeowner                  113937 non-null  bool   \n",
      " 22  CurrentlyInGroup                     113937 non-null  bool   \n",
      " 23  GroupKey                             13341 non-null   object \n",
      " 24  DateCreditPulled                     113937 non-null  object \n",
      " 25  CreditScoreRangeLower                113346 non-null  float64\n",
      " 26  CreditScoreRangeUpper                113346 non-null  float64\n",
      " 27  FirstRecordedCreditLine              113240 non-null  object \n",
      " 28  CurrentCreditLines                   106333 non-null  float64\n",
      " 29  OpenCreditLines                      106333 non-null  float64\n",
      " 30  TotalCreditLinespast7years           113240 non-null  float64\n",
      " 31  OpenRevolvingAccounts                113937 non-null  int64  \n",
      " 32  OpenRevolvingMonthlyPayment          113937 non-null  float64\n",
      " 33  InquiriesLast6Months                 113240 non-null  float64\n",
      " 34  TotalInquiries                       112778 non-null  float64\n",
      " 35  CurrentDelinquencies                 113240 non-null  float64\n",
      " 36  AmountDelinquent                     106315 non-null  float64\n",
      " 37  DelinquenciesLast7Years              112947 non-null  float64\n",
      " 38  PublicRecordsLast10Years             113240 non-null  float64\n",
      " 39  PublicRecordsLast12Months            106333 non-null  float64\n",
      " 40  RevolvingCreditBalance               106333 non-null  float64\n",
      " 41  BankcardUtilization                  106333 non-null  float64\n",
      " 42  AvailableBankcardCredit              106393 non-null  float64\n",
      " 43  TotalTrades                          106393 non-null  float64\n",
      " 44  TradesNeverDelinquent (percentage)   106393 non-null  float64\n",
      " 45  TradesOpenedLast6Months              106393 non-null  float64\n",
      " 46  DebtToIncomeRatio                    105383 non-null  float64\n",
      " 47  IncomeRange                          113937 non-null  object \n",
      " 48  IncomeVerifiable                     113937 non-null  bool   \n",
      " 49  StatedMonthlyIncome                  113937 non-null  float64\n",
      " 50  LoanKey                              113937 non-null  object \n",
      " 51  TotalProsperLoans                    22085 non-null   float64\n",
      " 52  TotalProsperPaymentsBilled           22085 non-null   float64\n",
      " 53  OnTimeProsperPayments                22085 non-null   float64\n",
      " 54  ProsperPaymentsLessThanOneMonthLate  22085 non-null   float64\n",
      " 55  ProsperPaymentsOneMonthPlusLate      22085 non-null   float64\n",
      " 56  ProsperPrincipalBorrowed             22085 non-null   float64\n",
      " 57  ProsperPrincipalOutstanding          22085 non-null   float64\n",
      " 58  ScorexChangeAtTimeOfListing          18928 non-null   float64\n",
      " 59  LoanCurrentDaysDelinquent            113937 non-null  int64  \n",
      " 60  LoanFirstDefaultedCycleNumber        16952 non-null   float64\n",
      " 61  LoanMonthsSinceOrigination           113937 non-null  int64  \n",
      " 62  LoanNumber                           113937 non-null  int64  \n",
      " 63  LoanOriginalAmount                   113937 non-null  int64  \n",
      " 64  LoanOriginationDate                  113937 non-null  object \n",
      " 65  LoanOriginationQuarter               113937 non-null  object \n",
      " 66  MemberKey                            113937 non-null  object \n",
      " 67  MonthlyLoanPayment                   113937 non-null  float64\n",
      " 68  LP_CustomerPayments                  113937 non-null  float64\n",
      " 69  LP_CustomerPrincipalPayments         113937 non-null  float64\n",
      " 70  LP_InterestandFees                   113937 non-null  float64\n",
      " 71  LP_ServiceFees                       113937 non-null  float64\n",
      " 72  LP_CollectionFees                    113937 non-null  float64\n",
      " 73  LP_GrossPrincipalLoss                113937 non-null  float64\n",
      " 74  LP_NetPrincipalLoss                  113937 non-null  float64\n",
      " 75  LP_NonPrincipalRecoverypayments      113937 non-null  float64\n",
      " 76  PercentFunded                        113937 non-null  float64\n",
      " 77  Recommendations                      113937 non-null  int64  \n",
      " 78  InvestmentFromFriendsCount           113937 non-null  int64  \n",
      " 79  InvestmentFromFriendsAmount          113937 non-null  float64\n",
      " 80  Investors                            113937 non-null  int64  \n",
      "dtypes: bool(3), float64(50), int64(11), object(17)\n",
      "memory usage: 68.1+ MB\n"
     ]
    }
   ],
   "source": [
    "df.info()"
   ]
  },
  {
   "cell_type": "code",
   "execution_count": 5,
   "id": "454f084f",
   "metadata": {},
   "outputs": [],
   "source": [
    "# Subset the dataframe by selecting features of interest\n",
    "cols = ['ListingNumber','ListingCreationDate','LoanOriginalAmount','LoanStatus','ListingCategory (numeric)','BorrowerState','BorrowerAPR','BorrowerRate','StatedMonthlyIncome', 'ProsperRating (Alpha)', \n",
    "        'Occupation','Term','EmploymentStatus','TotalInquiries','DebtToIncomeRatio','MonthlyLoanPayment','TotalTrades','Investors']\n",
    "df_loan = df[cols]"
   ]
  },
  {
   "cell_type": "code",
   "execution_count": 6,
   "id": "af4ad8a5",
   "metadata": {},
   "outputs": [
    {
     "name": "stdout",
     "output_type": "stream",
     "text": [
      "<class 'pandas.core.frame.DataFrame'>\n",
      "RangeIndex: 113937 entries, 0 to 113936\n",
      "Data columns (total 18 columns):\n",
      " #   Column                     Non-Null Count   Dtype  \n",
      "---  ------                     --------------   -----  \n",
      " 0   ListingNumber              113937 non-null  int64  \n",
      " 1   ListingCreationDate        113937 non-null  object \n",
      " 2   LoanOriginalAmount         113937 non-null  int64  \n",
      " 3   LoanStatus                 113937 non-null  object \n",
      " 4   ListingCategory (numeric)  113937 non-null  int64  \n",
      " 5   BorrowerState              108422 non-null  object \n",
      " 6   BorrowerAPR                113912 non-null  float64\n",
      " 7   BorrowerRate               113937 non-null  float64\n",
      " 8   StatedMonthlyIncome        113937 non-null  float64\n",
      " 9   ProsperRating (Alpha)      84853 non-null   object \n",
      " 10  Occupation                 110349 non-null  object \n",
      " 11  Term                       113937 non-null  int64  \n",
      " 12  EmploymentStatus           111682 non-null  object \n",
      " 13  TotalInquiries             112778 non-null  float64\n",
      " 14  DebtToIncomeRatio          105383 non-null  float64\n",
      " 15  MonthlyLoanPayment         113937 non-null  float64\n",
      " 16  TotalTrades                106393 non-null  float64\n",
      " 17  Investors                  113937 non-null  int64  \n",
      "dtypes: float64(7), int64(5), object(6)\n",
      "memory usage: 15.6+ MB\n"
     ]
    }
   ],
   "source": [
    "df_loan.info()"
   ]
  },
  {
   "cell_type": "code",
   "execution_count": 7,
   "id": "60cec476",
   "metadata": {},
   "outputs": [
    {
     "data": {
      "text/html": [
       "<div>\n",
       "<style scoped>\n",
       "    .dataframe tbody tr th:only-of-type {\n",
       "        vertical-align: middle;\n",
       "    }\n",
       "\n",
       "    .dataframe tbody tr th {\n",
       "        vertical-align: top;\n",
       "    }\n",
       "\n",
       "    .dataframe thead th {\n",
       "        text-align: right;\n",
       "    }\n",
       "</style>\n",
       "<table border=\"1\" class=\"dataframe\">\n",
       "  <thead>\n",
       "    <tr style=\"text-align: right;\">\n",
       "      <th></th>\n",
       "      <th>ListingNumber</th>\n",
       "      <th>ListingCreationDate</th>\n",
       "      <th>LoanOriginalAmount</th>\n",
       "      <th>LoanStatus</th>\n",
       "      <th>ListingCategory (numeric)</th>\n",
       "      <th>BorrowerState</th>\n",
       "      <th>BorrowerAPR</th>\n",
       "      <th>BorrowerRate</th>\n",
       "      <th>StatedMonthlyIncome</th>\n",
       "      <th>ProsperRating (Alpha)</th>\n",
       "      <th>Occupation</th>\n",
       "      <th>Term</th>\n",
       "      <th>EmploymentStatus</th>\n",
       "      <th>TotalInquiries</th>\n",
       "      <th>DebtToIncomeRatio</th>\n",
       "      <th>MonthlyLoanPayment</th>\n",
       "      <th>TotalTrades</th>\n",
       "      <th>Investors</th>\n",
       "    </tr>\n",
       "  </thead>\n",
       "  <tbody>\n",
       "    <tr>\n",
       "      <th>0</th>\n",
       "      <td>False</td>\n",
       "      <td>False</td>\n",
       "      <td>False</td>\n",
       "      <td>False</td>\n",
       "      <td>False</td>\n",
       "      <td>False</td>\n",
       "      <td>False</td>\n",
       "      <td>False</td>\n",
       "      <td>False</td>\n",
       "      <td>True</td>\n",
       "      <td>False</td>\n",
       "      <td>False</td>\n",
       "      <td>False</td>\n",
       "      <td>False</td>\n",
       "      <td>False</td>\n",
       "      <td>False</td>\n",
       "      <td>False</td>\n",
       "      <td>False</td>\n",
       "    </tr>\n",
       "    <tr>\n",
       "      <th>1</th>\n",
       "      <td>False</td>\n",
       "      <td>False</td>\n",
       "      <td>False</td>\n",
       "      <td>False</td>\n",
       "      <td>False</td>\n",
       "      <td>False</td>\n",
       "      <td>False</td>\n",
       "      <td>False</td>\n",
       "      <td>False</td>\n",
       "      <td>False</td>\n",
       "      <td>False</td>\n",
       "      <td>False</td>\n",
       "      <td>False</td>\n",
       "      <td>False</td>\n",
       "      <td>False</td>\n",
       "      <td>False</td>\n",
       "      <td>False</td>\n",
       "      <td>False</td>\n",
       "    </tr>\n",
       "    <tr>\n",
       "      <th>2</th>\n",
       "      <td>False</td>\n",
       "      <td>False</td>\n",
       "      <td>False</td>\n",
       "      <td>False</td>\n",
       "      <td>False</td>\n",
       "      <td>False</td>\n",
       "      <td>False</td>\n",
       "      <td>False</td>\n",
       "      <td>False</td>\n",
       "      <td>True</td>\n",
       "      <td>False</td>\n",
       "      <td>False</td>\n",
       "      <td>False</td>\n",
       "      <td>False</td>\n",
       "      <td>False</td>\n",
       "      <td>False</td>\n",
       "      <td>True</td>\n",
       "      <td>False</td>\n",
       "    </tr>\n",
       "    <tr>\n",
       "      <th>3</th>\n",
       "      <td>False</td>\n",
       "      <td>False</td>\n",
       "      <td>False</td>\n",
       "      <td>False</td>\n",
       "      <td>False</td>\n",
       "      <td>False</td>\n",
       "      <td>False</td>\n",
       "      <td>False</td>\n",
       "      <td>False</td>\n",
       "      <td>False</td>\n",
       "      <td>False</td>\n",
       "      <td>False</td>\n",
       "      <td>False</td>\n",
       "      <td>False</td>\n",
       "      <td>False</td>\n",
       "      <td>False</td>\n",
       "      <td>False</td>\n",
       "      <td>False</td>\n",
       "    </tr>\n",
       "    <tr>\n",
       "      <th>4</th>\n",
       "      <td>False</td>\n",
       "      <td>False</td>\n",
       "      <td>False</td>\n",
       "      <td>False</td>\n",
       "      <td>False</td>\n",
       "      <td>False</td>\n",
       "      <td>False</td>\n",
       "      <td>False</td>\n",
       "      <td>False</td>\n",
       "      <td>False</td>\n",
       "      <td>False</td>\n",
       "      <td>False</td>\n",
       "      <td>False</td>\n",
       "      <td>False</td>\n",
       "      <td>False</td>\n",
       "      <td>False</td>\n",
       "      <td>False</td>\n",
       "      <td>False</td>\n",
       "    </tr>\n",
       "    <tr>\n",
       "      <th>...</th>\n",
       "      <td>...</td>\n",
       "      <td>...</td>\n",
       "      <td>...</td>\n",
       "      <td>...</td>\n",
       "      <td>...</td>\n",
       "      <td>...</td>\n",
       "      <td>...</td>\n",
       "      <td>...</td>\n",
       "      <td>...</td>\n",
       "      <td>...</td>\n",
       "      <td>...</td>\n",
       "      <td>...</td>\n",
       "      <td>...</td>\n",
       "      <td>...</td>\n",
       "      <td>...</td>\n",
       "      <td>...</td>\n",
       "      <td>...</td>\n",
       "      <td>...</td>\n",
       "    </tr>\n",
       "    <tr>\n",
       "      <th>113932</th>\n",
       "      <td>False</td>\n",
       "      <td>False</td>\n",
       "      <td>False</td>\n",
       "      <td>False</td>\n",
       "      <td>False</td>\n",
       "      <td>False</td>\n",
       "      <td>False</td>\n",
       "      <td>False</td>\n",
       "      <td>False</td>\n",
       "      <td>False</td>\n",
       "      <td>False</td>\n",
       "      <td>False</td>\n",
       "      <td>False</td>\n",
       "      <td>False</td>\n",
       "      <td>False</td>\n",
       "      <td>False</td>\n",
       "      <td>False</td>\n",
       "      <td>False</td>\n",
       "    </tr>\n",
       "    <tr>\n",
       "      <th>113933</th>\n",
       "      <td>False</td>\n",
       "      <td>False</td>\n",
       "      <td>False</td>\n",
       "      <td>False</td>\n",
       "      <td>False</td>\n",
       "      <td>False</td>\n",
       "      <td>False</td>\n",
       "      <td>False</td>\n",
       "      <td>False</td>\n",
       "      <td>False</td>\n",
       "      <td>False</td>\n",
       "      <td>False</td>\n",
       "      <td>False</td>\n",
       "      <td>False</td>\n",
       "      <td>False</td>\n",
       "      <td>False</td>\n",
       "      <td>False</td>\n",
       "      <td>False</td>\n",
       "    </tr>\n",
       "    <tr>\n",
       "      <th>113934</th>\n",
       "      <td>False</td>\n",
       "      <td>False</td>\n",
       "      <td>False</td>\n",
       "      <td>False</td>\n",
       "      <td>False</td>\n",
       "      <td>False</td>\n",
       "      <td>False</td>\n",
       "      <td>False</td>\n",
       "      <td>False</td>\n",
       "      <td>False</td>\n",
       "      <td>False</td>\n",
       "      <td>False</td>\n",
       "      <td>False</td>\n",
       "      <td>False</td>\n",
       "      <td>False</td>\n",
       "      <td>False</td>\n",
       "      <td>False</td>\n",
       "      <td>False</td>\n",
       "    </tr>\n",
       "    <tr>\n",
       "      <th>113935</th>\n",
       "      <td>False</td>\n",
       "      <td>False</td>\n",
       "      <td>False</td>\n",
       "      <td>False</td>\n",
       "      <td>False</td>\n",
       "      <td>False</td>\n",
       "      <td>False</td>\n",
       "      <td>False</td>\n",
       "      <td>False</td>\n",
       "      <td>False</td>\n",
       "      <td>False</td>\n",
       "      <td>False</td>\n",
       "      <td>False</td>\n",
       "      <td>False</td>\n",
       "      <td>False</td>\n",
       "      <td>False</td>\n",
       "      <td>False</td>\n",
       "      <td>False</td>\n",
       "    </tr>\n",
       "    <tr>\n",
       "      <th>113936</th>\n",
       "      <td>False</td>\n",
       "      <td>False</td>\n",
       "      <td>False</td>\n",
       "      <td>False</td>\n",
       "      <td>False</td>\n",
       "      <td>False</td>\n",
       "      <td>False</td>\n",
       "      <td>False</td>\n",
       "      <td>False</td>\n",
       "      <td>False</td>\n",
       "      <td>False</td>\n",
       "      <td>False</td>\n",
       "      <td>False</td>\n",
       "      <td>False</td>\n",
       "      <td>False</td>\n",
       "      <td>False</td>\n",
       "      <td>False</td>\n",
       "      <td>False</td>\n",
       "    </tr>\n",
       "  </tbody>\n",
       "</table>\n",
       "<p>113937 rows × 18 columns</p>\n",
       "</div>"
      ],
      "text/plain": [
       "        ListingNumber  ListingCreationDate  LoanOriginalAmount  LoanStatus  \\\n",
       "0               False                False               False       False   \n",
       "1               False                False               False       False   \n",
       "2               False                False               False       False   \n",
       "3               False                False               False       False   \n",
       "4               False                False               False       False   \n",
       "...               ...                  ...                 ...         ...   \n",
       "113932          False                False               False       False   \n",
       "113933          False                False               False       False   \n",
       "113934          False                False               False       False   \n",
       "113935          False                False               False       False   \n",
       "113936          False                False               False       False   \n",
       "\n",
       "        ListingCategory (numeric)  BorrowerState  BorrowerAPR  BorrowerRate  \\\n",
       "0                           False          False        False         False   \n",
       "1                           False          False        False         False   \n",
       "2                           False          False        False         False   \n",
       "3                           False          False        False         False   \n",
       "4                           False          False        False         False   \n",
       "...                           ...            ...          ...           ...   \n",
       "113932                      False          False        False         False   \n",
       "113933                      False          False        False         False   \n",
       "113934                      False          False        False         False   \n",
       "113935                      False          False        False         False   \n",
       "113936                      False          False        False         False   \n",
       "\n",
       "        StatedMonthlyIncome  ProsperRating (Alpha)  Occupation   Term  \\\n",
       "0                     False                   True       False  False   \n",
       "1                     False                  False       False  False   \n",
       "2                     False                   True       False  False   \n",
       "3                     False                  False       False  False   \n",
       "4                     False                  False       False  False   \n",
       "...                     ...                    ...         ...    ...   \n",
       "113932                False                  False       False  False   \n",
       "113933                False                  False       False  False   \n",
       "113934                False                  False       False  False   \n",
       "113935                False                  False       False  False   \n",
       "113936                False                  False       False  False   \n",
       "\n",
       "        EmploymentStatus  TotalInquiries  DebtToIncomeRatio  \\\n",
       "0                  False           False              False   \n",
       "1                  False           False              False   \n",
       "2                  False           False              False   \n",
       "3                  False           False              False   \n",
       "4                  False           False              False   \n",
       "...                  ...             ...                ...   \n",
       "113932             False           False              False   \n",
       "113933             False           False              False   \n",
       "113934             False           False              False   \n",
       "113935             False           False              False   \n",
       "113936             False           False              False   \n",
       "\n",
       "        MonthlyLoanPayment  TotalTrades  Investors  \n",
       "0                    False        False      False  \n",
       "1                    False        False      False  \n",
       "2                    False         True      False  \n",
       "3                    False        False      False  \n",
       "4                    False        False      False  \n",
       "...                    ...          ...        ...  \n",
       "113932               False        False      False  \n",
       "113933               False        False      False  \n",
       "113934               False        False      False  \n",
       "113935               False        False      False  \n",
       "113936               False        False      False  \n",
       "\n",
       "[113937 rows x 18 columns]"
      ]
     },
     "execution_count": 7,
     "metadata": {},
     "output_type": "execute_result"
    }
   ],
   "source": [
    "#Locate Missing Data\n",
    "df_loan.isnull()"
   ]
  },
  {
   "cell_type": "code",
   "execution_count": 8,
   "id": "17f8df2d",
   "metadata": {},
   "outputs": [
    {
     "data": {
      "text/plain": [
       "ListingNumber                    0\n",
       "ListingCreationDate              0\n",
       "LoanOriginalAmount               0\n",
       "LoanStatus                       0\n",
       "ListingCategory (numeric)        0\n",
       "BorrowerState                 5515\n",
       "BorrowerAPR                     25\n",
       "BorrowerRate                     0\n",
       "StatedMonthlyIncome              0\n",
       "ProsperRating (Alpha)        29084\n",
       "Occupation                    3588\n",
       "Term                             0\n",
       "EmploymentStatus              2255\n",
       "TotalInquiries                1159\n",
       "DebtToIncomeRatio             8554\n",
       "MonthlyLoanPayment               0\n",
       "TotalTrades                   7544\n",
       "Investors                        0\n",
       "dtype: int64"
      ]
     },
     "execution_count": 8,
     "metadata": {},
     "output_type": "execute_result"
    }
   ],
   "source": [
    "df_loan.isnull().sum()"
   ]
  },
  {
   "cell_type": "code",
   "execution_count": 9,
   "id": "16856f25",
   "metadata": {},
   "outputs": [
    {
     "name": "stderr",
     "output_type": "stream",
     "text": [
      "C:\\Users\\menna\\anaconda3\\lib\\site-packages\\pandas\\core\\generic.py:5516: SettingWithCopyWarning: \n",
      "A value is trying to be set on a copy of a slice from a DataFrame.\n",
      "Try using .loc[row_indexer,col_indexer] = value instead\n",
      "\n",
      "See the caveats in the documentation: https://pandas.pydata.org/pandas-docs/stable/user_guide/indexing.html#returning-a-view-versus-a-copy\n",
      "  self[name] = value\n"
     ]
    }
   ],
   "source": [
    "# filling in missing values of DebtToIncomeRatio as mean of the column\n",
    "df_loan.DebtToIncomeRatio = df_loan.DebtToIncomeRatio.fillna(df_loan.DebtToIncomeRatio.mean())"
   ]
  },
  {
   "cell_type": "code",
   "execution_count": 10,
   "id": "f7422f42",
   "metadata": {},
   "outputs": [],
   "source": [
    "# filling missing values for the Occupation as unknown\n",
    "df_loan.Occupation = df_loan.Occupation.fillna('Unknown')"
   ]
  },
  {
   "cell_type": "code",
   "execution_count": 11,
   "id": "274de985",
   "metadata": {},
   "outputs": [
    {
     "name": "stderr",
     "output_type": "stream",
     "text": [
      "C:\\Users\\menna\\AppData\\Local\\Temp/ipykernel_5228/2723474557.py:2: SettingWithCopyWarning: \n",
      "A value is trying to be set on a copy of a slice from a DataFrame.\n",
      "Try using .loc[row_indexer,col_indexer] = value instead\n",
      "\n",
      "See the caveats in the documentation: https://pandas.pydata.org/pandas-docs/stable/user_guide/indexing.html#returning-a-view-versus-a-copy\n",
      "  df_loan['year']=df_loan['ListingCreationDate'].apply(lambda x: x.split(\"-\")[0]).astype(str)\n",
      "C:\\Users\\menna\\AppData\\Local\\Temp/ipykernel_5228/2723474557.py:3: SettingWithCopyWarning: \n",
      "A value is trying to be set on a copy of a slice from a DataFrame.\n",
      "Try using .loc[row_indexer,col_indexer] = value instead\n",
      "\n",
      "See the caveats in the documentation: https://pandas.pydata.org/pandas-docs/stable/user_guide/indexing.html#returning-a-view-versus-a-copy\n",
      "  df_loan['month'] = df_loan['ListingCreationDate'].apply(lambda x: x.split(\"-\")[1]).astype(str)\n"
     ]
    }
   ],
   "source": [
    "# Splitting ListingCreationDate column into year,month,day,time\n",
    "df_loan['year']=df_loan['ListingCreationDate'].apply(lambda x: x.split(\"-\")[0]).astype(str)\n",
    "df_loan['month'] = df_loan['ListingCreationDate'].apply(lambda x: x.split(\"-\")[1]).astype(str)"
   ]
  },
  {
   "cell_type": "code",
   "execution_count": 12,
   "id": "95d72384",
   "metadata": {},
   "outputs": [
    {
     "data": {
      "text/plain": [
       "array(['08', '02', '01', '10', '09', '12', '04', '05', '07', '11', '06',\n",
       "       '03'], dtype=object)"
      ]
     },
     "execution_count": 12,
     "metadata": {},
     "output_type": "execute_result"
    }
   ],
   "source": [
    "# unique values of month\n",
    "df_loan.month.unique()"
   ]
  },
  {
   "cell_type": "code",
   "execution_count": 13,
   "id": "b34d17ea",
   "metadata": {},
   "outputs": [
    {
     "name": "stderr",
     "output_type": "stream",
     "text": [
      "C:\\Users\\menna\\anaconda3\\lib\\site-packages\\pandas\\core\\generic.py:6619: SettingWithCopyWarning: \n",
      "A value is trying to be set on a copy of a slice from a DataFrame\n",
      "\n",
      "See the caveats in the documentation: https://pandas.pydata.org/pandas-docs/stable/user_guide/indexing.html#returning-a-view-versus-a-copy\n",
      "  return self._update_inplace(result)\n"
     ]
    }
   ],
   "source": [
    "# replacing numerical values of month with names\n",
    "df_loan.month.replace(['01','02','03','04','05','06','07','08','09','10','11','12'],['Jan','Feb','Mar','Apr','May','Jun','Jul','Aug','Sept','Oct','Nov','Dec'],inplace = True)"
   ]
  },
  {
   "cell_type": "code",
   "execution_count": 14,
   "id": "d7a2b004",
   "metadata": {},
   "outputs": [
    {
     "data": {
      "text/plain": [
       "array(['Aug', 'Feb', 'Jan', 'Oct', 'Sept', 'Dec', 'Apr', 'May', 'Jul',\n",
       "       'Nov', 'Jun', 'Mar'], dtype=object)"
      ]
     },
     "execution_count": 14,
     "metadata": {},
     "output_type": "execute_result"
    }
   ],
   "source": [
    "# unique values of month\n",
    "df_loan.month.unique()"
   ]
  },
  {
   "cell_type": "code",
   "execution_count": 15,
   "id": "c630e823",
   "metadata": {},
   "outputs": [
    {
     "name": "stderr",
     "output_type": "stream",
     "text": [
      "C:\\Users\\menna\\AppData\\Local\\Temp/ipykernel_5228/536284574.py:1: SettingWithCopyWarning: \n",
      "A value is trying to be set on a copy of a slice from a DataFrame.\n",
      "Try using .loc[row_indexer,col_indexer] = value instead\n",
      "\n",
      "See the caveats in the documentation: https://pandas.pydata.org/pandas-docs/stable/user_guide/indexing.html#returning-a-view-versus-a-copy\n",
      "  df_loan['ListingCreationDate'] = df_loan['ListingCreationDate'].apply(lambda x: x.split(\"-\")[2]).astype(str)\n"
     ]
    }
   ],
   "source": [
    "df_loan['ListingCreationDate'] = df_loan['ListingCreationDate'].apply(lambda x: x.split(\"-\")[2]).astype(str)"
   ]
  },
  {
   "cell_type": "code",
   "execution_count": 16,
   "id": "2a77717c",
   "metadata": {},
   "outputs": [
    {
     "name": "stderr",
     "output_type": "stream",
     "text": [
      "C:\\Users\\menna\\AppData\\Local\\Temp/ipykernel_5228/3189442699.py:1: SettingWithCopyWarning: \n",
      "A value is trying to be set on a copy of a slice from a DataFrame.\n",
      "Try using .loc[row_indexer,col_indexer] = value instead\n",
      "\n",
      "See the caveats in the documentation: https://pandas.pydata.org/pandas-docs/stable/user_guide/indexing.html#returning-a-view-versus-a-copy\n",
      "  df_loan['day'] = df_loan['ListingCreationDate'].apply(lambda x: x.split(\" \")[0]).astype(str)\n",
      "C:\\Users\\menna\\AppData\\Local\\Temp/ipykernel_5228/3189442699.py:2: SettingWithCopyWarning: \n",
      "A value is trying to be set on a copy of a slice from a DataFrame.\n",
      "Try using .loc[row_indexer,col_indexer] = value instead\n",
      "\n",
      "See the caveats in the documentation: https://pandas.pydata.org/pandas-docs/stable/user_guide/indexing.html#returning-a-view-versus-a-copy\n",
      "  df_loan['time'] = df_loan['ListingCreationDate'].apply(lambda x: x.split(\" \")[1]).astype(str)\n"
     ]
    }
   ],
   "source": [
    "df_loan['day'] = df_loan['ListingCreationDate'].apply(lambda x: x.split(\" \")[0]).astype(str)\n",
    "df_loan['time'] = df_loan['ListingCreationDate'].apply(lambda x: x.split(\" \")[1]).astype(str)"
   ]
  },
  {
   "cell_type": "code",
   "execution_count": 17,
   "id": "340a0bde",
   "metadata": {},
   "outputs": [
    {
     "name": "stderr",
     "output_type": "stream",
     "text": [
      "C:\\Users\\menna\\anaconda3\\lib\\site-packages\\pandas\\core\\frame.py:4906: SettingWithCopyWarning: \n",
      "A value is trying to be set on a copy of a slice from a DataFrame\n",
      "\n",
      "See the caveats in the documentation: https://pandas.pydata.org/pandas-docs/stable/user_guide/indexing.html#returning-a-view-versus-a-copy\n",
      "  return super().drop(\n"
     ]
    }
   ],
   "source": [
    "# drop the original ListingCreationDate column\n",
    "df_loan.drop(columns = ['ListingCreationDate'],inplace = True)"
   ]
  },
  {
   "cell_type": "code",
   "execution_count": 18,
   "id": "0372436b",
   "metadata": {},
   "outputs": [
    {
     "data": {
      "text/plain": [
       "0         False\n",
       "1         False\n",
       "2         False\n",
       "3         False\n",
       "4         False\n",
       "          ...  \n",
       "113932    False\n",
       "113933    False\n",
       "113934    False\n",
       "113935    False\n",
       "113936    False\n",
       "Length: 113937, dtype: bool"
      ]
     },
     "execution_count": 18,
     "metadata": {},
     "output_type": "execute_result"
    }
   ],
   "source": [
    "# drop duplicates in the dataset\n",
    "df_loan.duplicated()"
   ]
  },
  {
   "cell_type": "code",
   "execution_count": 19,
   "id": "4896916c",
   "metadata": {},
   "outputs": [
    {
     "data": {
      "text/plain": [
       "<AxesSubplot:>"
      ]
     },
     "execution_count": 19,
     "metadata": {},
     "output_type": "execute_result"
    },
    {
     "name": "stderr",
     "output_type": "stream",
     "text": [
      "C:\\Users\\menna\\anaconda3\\lib\\site-packages\\IPython\\core\\pylabtools.py:151: UserWarning: Creating legend with loc=\"best\" can be slow with large amounts of data.\n",
      "  fig.canvas.print_figure(bytes_io, **kw)\n"
     ]
    },
    {
     "data": {
      "image/png": "[encoded data removed]",
      "text/plain": [
       "<Figure size 432x288 with 1 Axes>"
      ]
     },
     "metadata": {
      "needs_background": "light"
     },
     "output_type": "display_data"
    }
   ],
   "source": [
    "sns.lineplot(data=df_loan)"
   ]
  },
  {
   "cell_type": "code",
   "execution_count": 20,
   "id": "dabe96c5",
   "metadata": {},
   "outputs": [
    {
     "data": {
      "image/png": "[encoded data removed]",
      "text/plain": [
       "<Figure size 720x360 with 1 Axes>"
      ]
     },
     "metadata": {
      "needs_background": "light"
     },
     "output_type": "display_data"
    }
   ],
   "source": [
    "# Distribution of Borrower APR in percentage \n",
    "binsize = 2\n",
    "borrowe_APR_percentage = df_loan['BorrowerAPR']*100\n",
    "bins = np.arange(df_loan['BorrowerAPR'].min()*100, df_loan['BorrowerAPR'].max()*100+binsize, binsize)\n",
    "\n",
    "plt.figure(figsize=[10, 5])\n",
    "plt.hist(x = borrowe_APR_percentage, bins = bins)\n",
    "plt.title('Borrower APR Distribution (%)')\n",
    "plt.xlabel('Borrower Annual Percentage Rate (%)')\n",
    "plt.ylabel('Count')\n",
    "plt.xticks([5, 10, 15, 20, 25, 30, 35, 40], ['5','10', '15', '20', '25', '30', '35', '40'])\n",
    "plt.show()"
   ]
  },
  {
   "cell_type": "code",
   "execution_count": null,
   "id": "8f454fda",
   "metadata": {},
   "outputs": [],
   "source": []
  }
 ],
 "metadata": {
  "kernelspec": {
   "display_name": "Python 3 (ipykernel)",
   "language": "python",
   "name": "python3"
  },
  "language_info": {
   "codemirror_mode": {
    "name": "ipython",
    "version": 3
   },
   "file_extension": ".py",
   "mimetype": "text/x-python",
   "name": "python",
   "nbconvert_exporter": "python",
   "pygments_lexer": "ipython3",
   "version": "3.9.7"
  }
 },
 "nbformat": 4,
 "nbformat_minor": 5
}
